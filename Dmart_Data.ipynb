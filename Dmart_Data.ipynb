{
 "cells": [
  {
   "cell_type": "markdown",
   "id": "e27755c3-cd88-4871-b1c7-9c5fc1c95a47",
   "metadata": {},
   "source": [
    "## **DATA ANALYSIS PYTHON PROJECT - SESONAL TRENDS AND POPULARITY ANALYSIS OF PTODUCTS (D-MART SALE DATA)**"
   ]
  },
  {
   "cell_type": "markdown",
   "id": "cd20dd02-0619-44ed-89c8-324ebe840cf3",
   "metadata": {},
   "source": [
    "#### **IMPORT LIBRARIES**"
   ]
  },
  {
   "cell_type": "code",
   "execution_count": 5,
   "id": "f415bc0a-b5ed-4c73-b9ab-e27d7efbf831",
   "metadata": {},
   "outputs": [],
   "source": [
    "import pandas as pd\n",
    "import numpy as np\n",
    "import matplotlib.pyplot as plt\n",
    "import seaborn as sns"
   ]
  },
  {
   "cell_type": "markdown",
   "id": "b8b58c1c-1bd0-4b23-9e2f-52bcecd65ae4",
   "metadata": {},
   "source": [
    "#### **IMPORT RAW DATA**"
   ]
  },
  {
   "cell_type": "code",
   "execution_count": 6,
   "id": "38244ead-d162-45ef-903c-6be7dd658820",
   "metadata": {},
   "outputs": [],
   "source": [
    "df = pd.read_csv(\"C:/Users/vibhuti/Dmart Analysis/Dmart_data.csv\")"
   ]
  },
  {
   "cell_type": "markdown",
   "id": "056f2653-c3c2-49d2-8de7-8f43216192de",
   "metadata": {},
   "source": [
    "#### **SAMPLE DATA**"
   ]
  },
  {
   "cell_type": "code",
   "execution_count": 7,
   "id": "c57c99c5-c988-454c-b6f0-300448d4423d",
   "metadata": {},
   "outputs": [
    {
     "data": {
      "text/html": [
       "<div>\n",
       "<style scoped>\n",
       "    .dataframe tbody tr th:only-of-type {\n",
       "        vertical-align: middle;\n",
       "    }\n",
       "\n",
       "    .dataframe tbody tr th {\n",
       "        vertical-align: top;\n",
       "    }\n",
       "\n",
       "    .dataframe thead th {\n",
       "        text-align: right;\n",
       "    }\n",
       "</style>\n",
       "<table border=\"1\" class=\"dataframe\">\n",
       "  <thead>\n",
       "    <tr style=\"text-align: right;\">\n",
       "      <th></th>\n",
       "      <th>Date</th>\n",
       "      <th>Time</th>\n",
       "      <th>CustomerType</th>\n",
       "      <th>ProductCategory</th>\n",
       "      <th>UnitPrice</th>\n",
       "      <th>Quantity</th>\n",
       "      <th>Total</th>\n",
       "      <th>FullName</th>\n",
       "    </tr>\n",
       "  </thead>\n",
       "  <tbody>\n",
       "    <tr>\n",
       "      <th>0</th>\n",
       "      <td>31-12-2023 15:41</td>\n",
       "      <td>6:04:28</td>\n",
       "      <td>Member</td>\n",
       "      <td>Grocery</td>\n",
       "      <td>10.69</td>\n",
       "      <td>4</td>\n",
       "      <td>42.76</td>\n",
       "      <td>Jai Bhatia</td>\n",
       "    </tr>\n",
       "    <tr>\n",
       "      <th>1</th>\n",
       "      <td>7/1/2024 22:19</td>\n",
       "      <td>1:05:18</td>\n",
       "      <td>Premium</td>\n",
       "      <td>Home &amp; Kitchen</td>\n",
       "      <td>381.03</td>\n",
       "      <td>3</td>\n",
       "      <td>1143.09</td>\n",
       "      <td>Ishaan Patel</td>\n",
       "    </tr>\n",
       "    <tr>\n",
       "      <th>2</th>\n",
       "      <td>10/1/2024 2:09</td>\n",
       "      <td>17:31:43</td>\n",
       "      <td>Regular</td>\n",
       "      <td>Grocery</td>\n",
       "      <td>153.84</td>\n",
       "      <td>5</td>\n",
       "      <td>769.20</td>\n",
       "      <td>Tanvi Iyer</td>\n",
       "    </tr>\n",
       "    <tr>\n",
       "      <th>3</th>\n",
       "      <td>1/6/2023 10:46</td>\n",
       "      <td>1:50:16</td>\n",
       "      <td>Regular</td>\n",
       "      <td>Electronics</td>\n",
       "      <td>341.41</td>\n",
       "      <td>4</td>\n",
       "      <td>1365.64</td>\n",
       "      <td>Zara Xavier</td>\n",
       "    </tr>\n",
       "    <tr>\n",
       "      <th>4</th>\n",
       "      <td>23-05-2024 22:07</td>\n",
       "      <td>10:37:06</td>\n",
       "      <td>Regular</td>\n",
       "      <td>Home &amp; Kitchen</td>\n",
       "      <td>390.16</td>\n",
       "      <td>5</td>\n",
       "      <td>1950.80</td>\n",
       "      <td>Krishna Zutshi</td>\n",
       "    </tr>\n",
       "    <tr>\n",
       "      <th>5</th>\n",
       "      <td>16-02-2024 19:41</td>\n",
       "      <td>22:41:47</td>\n",
       "      <td>Member</td>\n",
       "      <td>Grocery</td>\n",
       "      <td>170.21</td>\n",
       "      <td>4</td>\n",
       "      <td>680.84</td>\n",
       "      <td>Zara Singh</td>\n",
       "    </tr>\n",
       "    <tr>\n",
       "      <th>6</th>\n",
       "      <td>30-11-2023 03:36</td>\n",
       "      <td>9:36:45</td>\n",
       "      <td>Member</td>\n",
       "      <td>Clothing</td>\n",
       "      <td>81.74</td>\n",
       "      <td>2</td>\n",
       "      <td>163.48</td>\n",
       "      <td>Eeshaan Xavier</td>\n",
       "    </tr>\n",
       "    <tr>\n",
       "      <th>7</th>\n",
       "      <td>5/6/2024 5:21</td>\n",
       "      <td>20:02:39</td>\n",
       "      <td>Premium</td>\n",
       "      <td>Clothing</td>\n",
       "      <td>181.26</td>\n",
       "      <td>3</td>\n",
       "      <td>543.78</td>\n",
       "      <td>Eeshaan Kumar</td>\n",
       "    </tr>\n",
       "    <tr>\n",
       "      <th>8</th>\n",
       "      <td>7/6/2024 21:40</td>\n",
       "      <td>21:07:44</td>\n",
       "      <td>Premium</td>\n",
       "      <td>Electronics</td>\n",
       "      <td>471.89</td>\n",
       "      <td>2</td>\n",
       "      <td>943.78</td>\n",
       "      <td>Mahesh Mehta</td>\n",
       "    </tr>\n",
       "    <tr>\n",
       "      <th>9</th>\n",
       "      <td>29-12-2023 04:35</td>\n",
       "      <td>17:53:54</td>\n",
       "      <td>Member</td>\n",
       "      <td>Grocery</td>\n",
       "      <td>59.70</td>\n",
       "      <td>2</td>\n",
       "      <td>119.40</td>\n",
       "      <td>Ishaan Verma</td>\n",
       "    </tr>\n",
       "  </tbody>\n",
       "</table>\n",
       "</div>"
      ],
      "text/plain": [
       "               Date      Time CustomerType ProductCategory  UnitPrice  \\\n",
       "0  31-12-2023 15:41   6:04:28       Member         Grocery      10.69   \n",
       "1    7/1/2024 22:19   1:05:18      Premium  Home & Kitchen     381.03   \n",
       "2    10/1/2024 2:09  17:31:43      Regular         Grocery     153.84   \n",
       "3    1/6/2023 10:46   1:50:16      Regular     Electronics     341.41   \n",
       "4  23-05-2024 22:07  10:37:06      Regular  Home & Kitchen     390.16   \n",
       "5  16-02-2024 19:41  22:41:47       Member         Grocery     170.21   \n",
       "6  30-11-2023 03:36   9:36:45       Member        Clothing      81.74   \n",
       "7     5/6/2024 5:21  20:02:39      Premium        Clothing     181.26   \n",
       "8    7/6/2024 21:40  21:07:44      Premium     Electronics     471.89   \n",
       "9  29-12-2023 04:35  17:53:54       Member         Grocery      59.70   \n",
       "\n",
       "   Quantity    Total        FullName  \n",
       "0         4    42.76      Jai Bhatia  \n",
       "1         3  1143.09    Ishaan Patel  \n",
       "2         5   769.20      Tanvi Iyer  \n",
       "3         4  1365.64     Zara Xavier  \n",
       "4         5  1950.80  Krishna Zutshi  \n",
       "5         4   680.84      Zara Singh  \n",
       "6         2   163.48  Eeshaan Xavier  \n",
       "7         3   543.78   Eeshaan Kumar  \n",
       "8         2   943.78    Mahesh Mehta  \n",
       "9         2   119.40    Ishaan Verma  "
      ]
     },
     "execution_count": 7,
     "metadata": {},
     "output_type": "execute_result"
    }
   ],
   "source": [
    "df.head(10)"
   ]
  },
  {
   "cell_type": "code",
   "execution_count": 8,
   "id": "1a56b91a-bec0-4b63-9993-496efdbfa44a",
   "metadata": {},
   "outputs": [
    {
     "data": {
      "text/html": [
       "<div>\n",
       "<style scoped>\n",
       "    .dataframe tbody tr th:only-of-type {\n",
       "        vertical-align: middle;\n",
       "    }\n",
       "\n",
       "    .dataframe tbody tr th {\n",
       "        vertical-align: top;\n",
       "    }\n",
       "\n",
       "    .dataframe thead th {\n",
       "        text-align: right;\n",
       "    }\n",
       "</style>\n",
       "<table border=\"1\" class=\"dataframe\">\n",
       "  <thead>\n",
       "    <tr style=\"text-align: right;\">\n",
       "      <th></th>\n",
       "      <th>Date</th>\n",
       "      <th>Time</th>\n",
       "      <th>CustomerType</th>\n",
       "      <th>ProductCategory</th>\n",
       "      <th>UnitPrice</th>\n",
       "      <th>Quantity</th>\n",
       "      <th>Total</th>\n",
       "      <th>FullName</th>\n",
       "    </tr>\n",
       "  </thead>\n",
       "  <tbody>\n",
       "    <tr>\n",
       "      <th>999990</th>\n",
       "      <td>21-12-2023 02:53</td>\n",
       "      <td>19:54:40</td>\n",
       "      <td>Premium</td>\n",
       "      <td>Grocery</td>\n",
       "      <td>125.88</td>\n",
       "      <td>1</td>\n",
       "      <td>125.88</td>\n",
       "      <td>Priya Gupta</td>\n",
       "    </tr>\n",
       "    <tr>\n",
       "      <th>999991</th>\n",
       "      <td>9/7/2023 22:54</td>\n",
       "      <td>0:31:20</td>\n",
       "      <td>Premium</td>\n",
       "      <td>Electronics</td>\n",
       "      <td>362.29</td>\n",
       "      <td>5</td>\n",
       "      <td>1811.45</td>\n",
       "      <td>Uday Chauhan</td>\n",
       "    </tr>\n",
       "    <tr>\n",
       "      <th>999992</th>\n",
       "      <td>27-01-2024 08:22</td>\n",
       "      <td>21:15:07</td>\n",
       "      <td>Regular</td>\n",
       "      <td>Home &amp; Kitchen</td>\n",
       "      <td>283.34</td>\n",
       "      <td>3</td>\n",
       "      <td>850.02</td>\n",
       "      <td>Vaibhav Yadav</td>\n",
       "    </tr>\n",
       "    <tr>\n",
       "      <th>999993</th>\n",
       "      <td>18-09-2023 16:06</td>\n",
       "      <td>0:00:41</td>\n",
       "      <td>Regular</td>\n",
       "      <td>Electronics</td>\n",
       "      <td>180.66</td>\n",
       "      <td>3</td>\n",
       "      <td>541.98</td>\n",
       "      <td>Uday Wadhwa</td>\n",
       "    </tr>\n",
       "    <tr>\n",
       "      <th>999994</th>\n",
       "      <td>28-03-2023 20:18</td>\n",
       "      <td>11:39:45</td>\n",
       "      <td>Premium</td>\n",
       "      <td>Grocery</td>\n",
       "      <td>343.25</td>\n",
       "      <td>2</td>\n",
       "      <td>686.50</td>\n",
       "      <td>Zara Chauhan</td>\n",
       "    </tr>\n",
       "    <tr>\n",
       "      <th>999995</th>\n",
       "      <td>16-08-2023 21:13</td>\n",
       "      <td>15:37:01</td>\n",
       "      <td>Premium</td>\n",
       "      <td>Electronics</td>\n",
       "      <td>256.80</td>\n",
       "      <td>1</td>\n",
       "      <td>256.80</td>\n",
       "      <td>Priya Wadhwa</td>\n",
       "    </tr>\n",
       "    <tr>\n",
       "      <th>999996</th>\n",
       "      <td>18-01-2024 13:01</td>\n",
       "      <td>15:05:47</td>\n",
       "      <td>Regular</td>\n",
       "      <td>Electronics</td>\n",
       "      <td>191.20</td>\n",
       "      <td>3</td>\n",
       "      <td>573.60</td>\n",
       "      <td>Nandini Iyer</td>\n",
       "    </tr>\n",
       "    <tr>\n",
       "      <th>999997</th>\n",
       "      <td>5/10/2023 19:16</td>\n",
       "      <td>5:38:49</td>\n",
       "      <td>Premium</td>\n",
       "      <td>Home &amp; Kitchen</td>\n",
       "      <td>324.33</td>\n",
       "      <td>5</td>\n",
       "      <td>1621.65</td>\n",
       "      <td>Zara Jain</td>\n",
       "    </tr>\n",
       "    <tr>\n",
       "      <th>999998</th>\n",
       "      <td>3/4/2024 14:55</td>\n",
       "      <td>10:14:32</td>\n",
       "      <td>Regular</td>\n",
       "      <td>Home &amp; Kitchen</td>\n",
       "      <td>39.27</td>\n",
       "      <td>3</td>\n",
       "      <td>117.81</td>\n",
       "      <td>Nandini Wadhwa</td>\n",
       "    </tr>\n",
       "    <tr>\n",
       "      <th>999999</th>\n",
       "      <td>22-01-2024 22:44</td>\n",
       "      <td>3:58:37</td>\n",
       "      <td>Member</td>\n",
       "      <td>Home &amp; Kitchen</td>\n",
       "      <td>347.68</td>\n",
       "      <td>4</td>\n",
       "      <td>1390.72</td>\n",
       "      <td>Priya Gupta</td>\n",
       "    </tr>\n",
       "  </tbody>\n",
       "</table>\n",
       "</div>"
      ],
      "text/plain": [
       "                    Date      Time CustomerType ProductCategory  UnitPrice  \\\n",
       "999990  21-12-2023 02:53  19:54:40      Premium         Grocery     125.88   \n",
       "999991    9/7/2023 22:54   0:31:20      Premium     Electronics     362.29   \n",
       "999992  27-01-2024 08:22  21:15:07      Regular  Home & Kitchen     283.34   \n",
       "999993  18-09-2023 16:06   0:00:41      Regular     Electronics     180.66   \n",
       "999994  28-03-2023 20:18  11:39:45      Premium         Grocery     343.25   \n",
       "999995  16-08-2023 21:13  15:37:01      Premium     Electronics     256.80   \n",
       "999996  18-01-2024 13:01  15:05:47      Regular     Electronics     191.20   \n",
       "999997   5/10/2023 19:16   5:38:49      Premium  Home & Kitchen     324.33   \n",
       "999998    3/4/2024 14:55  10:14:32      Regular  Home & Kitchen      39.27   \n",
       "999999  22-01-2024 22:44   3:58:37       Member  Home & Kitchen     347.68   \n",
       "\n",
       "        Quantity    Total        FullName  \n",
       "999990         1   125.88     Priya Gupta  \n",
       "999991         5  1811.45    Uday Chauhan  \n",
       "999992         3   850.02   Vaibhav Yadav  \n",
       "999993         3   541.98     Uday Wadhwa  \n",
       "999994         2   686.50    Zara Chauhan  \n",
       "999995         1   256.80    Priya Wadhwa  \n",
       "999996         3   573.60    Nandini Iyer  \n",
       "999997         5  1621.65       Zara Jain  \n",
       "999998         3   117.81  Nandini Wadhwa  \n",
       "999999         4  1390.72     Priya Gupta  "
      ]
     },
     "execution_count": 8,
     "metadata": {},
     "output_type": "execute_result"
    }
   ],
   "source": [
    "df.tail(10)"
   ]
  },
  {
   "cell_type": "markdown",
   "id": "90190128-4601-4669-8bf4-c698e1261e47",
   "metadata": {},
   "source": [
    "#### **SIZE OF DATA** "
   ]
  },
  {
   "cell_type": "code",
   "execution_count": 10,
   "id": "a79b9871-923f-4e05-9d99-2119b649b902",
   "metadata": {},
   "outputs": [
    {
     "name": "stdout",
     "output_type": "stream",
     "text": [
      "size of DATA : (1000000, 8)\n"
     ]
    }
   ],
   "source": [
    "print(\"size of DATA :\",df.shape)"
   ]
  },
  {
   "cell_type": "markdown",
   "id": "c817ddab-080c-4c4e-b501-6d6dd0615c18",
   "metadata": {},
   "source": [
    "#### **DATA TYPE** "
   ]
  },
  {
   "cell_type": "code",
   "execution_count": 12,
   "id": "e887eab5-696c-4627-a9ff-d6047379322b",
   "metadata": {},
   "outputs": [
    {
     "data": {
      "text/plain": [
       "Date                object\n",
       "Time                object\n",
       "CustomerType        object\n",
       "ProductCategory     object\n",
       "UnitPrice          float64\n",
       "Quantity             int64\n",
       "Total              float64\n",
       "FullName            object\n",
       "dtype: object"
      ]
     },
     "execution_count": 12,
     "metadata": {},
     "output_type": "execute_result"
    }
   ],
   "source": [
    "df.dtypes"
   ]
  },
  {
   "cell_type": "code",
   "execution_count": 11,
   "id": "ce95cb68-52f3-4e99-9eca-835ab97cfea3",
   "metadata": {},
   "outputs": [
    {
     "data": {
      "text/plain": [
       "Index(['Date', 'Time', 'CustomerType', 'ProductCategory', 'UnitPrice',\n",
       "       'Quantity', 'Total', 'FullName'],\n",
       "      dtype='object')"
      ]
     },
     "execution_count": 11,
     "metadata": {},
     "output_type": "execute_result"
    }
   ],
   "source": [
    "df.columns"
   ]
  },
  {
   "cell_type": "markdown",
   "id": "4ffa473c-3720-47c8-a1a2-53a1f3d73b6c",
   "metadata": {},
   "source": [
    "#### **DATA CLEANING** "
   ]
  },
  {
   "cell_type": "code",
   "execution_count": 16,
   "id": "692c1104-55f9-40b3-91a9-3f90c589df00",
   "metadata": {},
   "outputs": [
    {
     "name": "stdout",
     "output_type": "stream",
     "text": [
      "<class 'pandas.core.frame.DataFrame'>\n",
      "RangeIndex: 1000000 entries, 0 to 999999\n",
      "Data columns (total 8 columns):\n",
      " #   Column           Non-Null Count    Dtype  \n",
      "---  ------           --------------    -----  \n",
      " 0   Date             1000000 non-null  object \n",
      " 1   Time             1000000 non-null  object \n",
      " 2   CustomerType     1000000 non-null  object \n",
      " 3   ProductCategory  1000000 non-null  object \n",
      " 4   UnitPrice        1000000 non-null  float64\n",
      " 5   Quantity         1000000 non-null  int64  \n",
      " 6   Total            1000000 non-null  float64\n",
      " 7   FullName         1000000 non-null  object \n",
      "dtypes: float64(2), int64(1), object(5)\n",
      "memory usage: 61.0+ MB\n"
     ]
    }
   ],
   "source": [
    "df.info()"
   ]
  },
  {
   "cell_type": "code",
   "execution_count": 14,
   "id": "71e043b3-48e5-4496-8d39-bcb144b904b2",
   "metadata": {},
   "outputs": [
    {
     "name": "stdout",
     "output_type": "stream",
     "text": [
      "['Member' 'Premium' 'Regular']\n"
     ]
    }
   ],
   "source": [
    "print(df['CustomerType'].unique())"
   ]
  },
  {
   "cell_type": "code",
   "execution_count": 15,
   "id": "9213a69f",
   "metadata": {},
   "outputs": [
    {
     "name": "stdout",
     "output_type": "stream",
     "text": [
      "['Grocery' 'Home & Kitchen' 'Electronics' 'Clothing'\n",
      " 'Beauty & Personal Care']\n"
     ]
    }
   ],
   "source": [
    "print(df['ProductCategory'].unique())"
   ]
  },
  {
   "cell_type": "code",
   "execution_count": 17,
   "id": "62956ae1-273e-46e7-a816-95921b0cdc5c",
   "metadata": {},
   "outputs": [],
   "source": [
    "#drop null values \n",
    "df.dropna(inplace=True)"
   ]
  },
  {
   "cell_type": "code",
   "execution_count": 23,
   "id": "a1fce019-3c11-4e1a-846d-2affb6c1a193",
   "metadata": {},
   "outputs": [],
   "source": [
    "#change datatype\n",
    "df['Date'] = df['Date'].str.replace('-', '/', regex=False)"
   ]
  },
  {
   "cell_type": "code",
   "execution_count": 25,
   "id": "5500db76-16c3-4fd8-938d-ca008a5a21a9",
   "metadata": {},
   "outputs": [
    {
     "name": "stdout",
     "output_type": "stream",
     "text": [
      "0         31/12/2023 15:41\n",
      "1           7/1/2024 22:19\n",
      "2           10/1/2024 2:09\n",
      "3           1/6/2023 10:46\n",
      "4         23/05/2024 22:07\n",
      "                ...       \n",
      "999995    16/08/2023 21:13\n",
      "999996    18/01/2024 13:01\n",
      "999997     5/10/2023 19:16\n",
      "999998      3/4/2024 14:55\n",
      "999999    22/01/2024 22:44\n",
      "Name: Date, Length: 1000000, dtype: object\n"
     ]
    }
   ],
   "source": [
    "print(df.Date)"
   ]
  },
  {
   "cell_type": "code",
   "execution_count": 26,
   "id": "3f3cc525-15fc-4f3c-9739-99ac2b879fe6",
   "metadata": {},
   "outputs": [],
   "source": [
    "df['Date'] = df['Date'].str.split(' ').str[0]\n"
   ]
  },
  {
   "cell_type": "code",
   "execution_count": 27,
   "id": "5dea0df6",
   "metadata": {},
   "outputs": [
    {
     "name": "stdout",
     "output_type": "stream",
     "text": [
      "0         31/12/2023\n",
      "1           7/1/2024\n",
      "2          10/1/2024\n",
      "3           1/6/2023\n",
      "4         23/05/2024\n",
      "             ...    \n",
      "999995    16/08/2023\n",
      "999996    18/01/2024\n",
      "999997     5/10/2023\n",
      "999998      3/4/2024\n",
      "999999    22/01/2024\n",
      "Name: Date, Length: 1000000, dtype: object\n"
     ]
    }
   ],
   "source": [
    "print(df.Date)"
   ]
  },
  {
   "cell_type": "code",
   "execution_count": 29,
   "id": "b7877929-ec5c-4573-8867-7fe0e917378f",
   "metadata": {},
   "outputs": [],
   "source": [
    "df['Date'] = pd.to_datetime(df['Date'], dayfirst=True).dt.strftime('%#d/%#m/%Y')\n"
   ]
  },
  {
   "cell_type": "code",
   "execution_count": 31,
   "id": "a02b0d57-29a1-4801-abbf-debd780c074e",
   "metadata": {},
   "outputs": [
    {
     "name": "stdout",
     "output_type": "stream",
     "text": [
      "0         31/12/2023\n",
      "1           7/1/2024\n",
      "2          10/1/2024\n",
      "3           1/6/2023\n",
      "4          23/5/2024\n",
      "             ...    \n",
      "999995     16/8/2023\n",
      "999996     18/1/2024\n",
      "999997     5/10/2023\n",
      "999998      3/4/2024\n",
      "999999     22/1/2024\n",
      "Name: Date, Length: 1000000, dtype: object\n"
     ]
    }
   ],
   "source": [
    "print()"
   ]
  },
  {
   "cell_type": "code",
   "execution_count": 32,
   "id": "4ccf5797-4f83-46e1-a9e5-309e66732f94",
   "metadata": {},
   "outputs": [
    {
     "name": "stderr",
     "output_type": "stream",
     "text": [
      "C:\\Users\\vibhuti\\AppData\\Local\\Temp\\ipykernel_32012\\3386729631.py:1: UserWarning: Parsing dates in %d/%m/%Y format when dayfirst=False (the default) was specified. Pass `dayfirst=True` or specify a format to silence this warning.\n",
      "  df['Date'] = pd.to_datetime(df['Date'])\n"
     ]
    }
   ],
   "source": [
    "df['Date'] = pd.to_datetime(df['Date'])\n"
   ]
  },
  {
   "cell_type": "code",
   "execution_count": 33,
   "id": "8a5fd50d-a44a-47ab-855a-f1cb889d72a2",
   "metadata": {},
   "outputs": [],
   "source": [
    "df['Date'] = pd.to_datetime(df['Date'], dayfirst=True)\n"
   ]
  },
  {
   "cell_type": "code",
   "execution_count": 34,
   "id": "db6b7479-00a6-4fc6-a61b-9772ed5e3f1c",
   "metadata": {},
   "outputs": [
    {
     "name": "stdout",
     "output_type": "stream",
     "text": [
      "0        2023-12-31\n",
      "1        2024-01-07\n",
      "2        2024-01-10\n",
      "3        2023-06-01\n",
      "4        2024-05-23\n",
      "            ...    \n",
      "999995   2023-08-16\n",
      "999996   2024-01-18\n",
      "999997   2023-10-05\n",
      "999998   2024-04-03\n",
      "999999   2024-01-22\n",
      "Name: Date, Length: 1000000, dtype: datetime64[ns]\n"
     ]
    }
   ],
   "source": [
    "print(df.Date)"
   ]
  },
  {
   "cell_type": "code",
   "execution_count": null,
   "id": "41e08221-609b-4dcf-a3d5-aa7035f48ea6",
   "metadata": {},
   "outputs": [],
   "source": [
    "\n"
   ]
  }
 ],
 "metadata": {
  "kernelspec": {
   "display_name": "Python 3 (ipykernel)",
   "language": "python",
   "name": "python3"
  },
  "language_info": {
   "codemirror_mode": {
    "name": "ipython",
    "version": 3
   },
   "file_extension": ".py",
   "mimetype": "text/x-python",
   "name": "python",
   "nbconvert_exporter": "python",
   "pygments_lexer": "ipython3",
   "version": "3.11.2"
  }
 },
 "nbformat": 4,
 "nbformat_minor": 5
}
